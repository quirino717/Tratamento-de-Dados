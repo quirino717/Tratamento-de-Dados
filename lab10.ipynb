{
 "cells": [
  {
   "cell_type": "markdown",
   "id": "fbc98e55",
   "metadata": {
    "id": "fbc98e55"
   },
   "source": [
    "# Exercício Prático: Feature Engineering e Seleção de Atributos\n",
    "## Cenário\n",
    "\n",
    "Você foi contratado como cientista de dados por uma empresa de seguros. Seu objetivo é preparar os dados de clientes para um modelo de previsão de inadimplência.\n",
    "\n",
    "O dataset foi parcialmente anonimizado, mas ainda contém informações úteis como:\n",
    "- Idade\n",
    "- Renda anual\n",
    "- Número de dependentes\n",
    "- Gênero\n",
    "- Estado civil\n",
    "- Valor de dívidas\n",
    "- Status de inadimplência (0 ou 1)\n",
    "\n",
    "Seu trabalho é aplicar as técnicas de *feature engineering* para tornar os dados prontos para modelagem.\n",
    "\n",
    "---\n",
    "\n"
   ]
  },
  {
   "cell_type": "markdown",
   "id": "4df5fa4d",
   "metadata": {
    "id": "4df5fa4d"
   },
   "source": [
    "## Importações\n",
    "\n",
    "```python\n",
    "import pandas as pd\n",
    "import numpy as np\n",
    "import matplotlib.pyplot as plt\n",
    "import seaborn as sns\n",
    "\n",
    "from sklearn.impute import SimpleImputer\n",
    "from sklearn.preprocessing import StandardScaler, OneHotEncoder\n",
    "from sklearn.decomposition import PCA\n",
    "from sklearn.ensemble import RandomForestClassifier\n",
    "from sklearn.feature_selection import SelectFromModel\n",
    "```\n"
   ]
  },
  {
   "cell_type": "code",
   "source": [
    "import pandas as pd\n",
    "import numpy as np\n",
    "import matplotlib.pyplot as plt\n",
    "import seaborn as sns\n",
    "\n",
    "from sklearn.impute import SimpleImputer\n",
    "from sklearn.preprocessing import StandardScaler, OneHotEncoder, LabelEncoder\n",
    "from sklearn.decomposition import PCA\n",
    "from sklearn.ensemble import RandomForestClassifier\n",
    "from sklearn.feature_selection import SelectFromModel"
   ],
   "metadata": {
    "id": "zfifCz5069lt",
    "executionInfo": {
     "status": "ok",
     "timestamp": 1744333823006,
     "user_tz": 180,
     "elapsed": 67,
     "user": {
      "displayName": "Leonardo Quirino",
      "userId": "09188993055052121239"
     }
    },
    "ExecuteTime": {
     "end_time": "2025-05-28T00:27:24.764429Z",
     "start_time": "2025-05-28T00:27:24.754421Z"
    }
   },
   "id": "zfifCz5069lt",
   "outputs": [],
   "execution_count": 17
  },
  {
   "cell_type": "markdown",
   "id": "fe3a40f1",
   "metadata": {
    "id": "fe3a40f1"
   },
   "source": [
    "## 1. Criação do Dataset de Exemplo\n",
    "\n",
    "```python\n",
    "# Dataset simulado\n",
    "np.random.seed(42)\n",
    "\n",
    "data = pd.DataFrame({\n",
    "    'idade': np.random.randint(18, 70, 100),\n",
    "    'renda_anual': np.append(np.random.normal(50000, 15000, 95), [300000, 400000, np.nan, np.nan, np.nan]),\n",
    "    'dependentes': np.random.choice([0, 1, 2, 3, np.nan], 100),\n",
    "    'genero': np.random.choice(['masculino', 'feminino', None], 100),\n",
    "    'estado_civil': np.random.choice(['solteiro', 'casado', 'divorciado'], 100),\n",
    "    'dividas': np.append(np.random.normal(10000, 3000, 95), [70000, 80000, 100000, 90000, 85000]),\n",
    "    'inadimplente': np.random.choice([0, 1], 100)\n",
    "})\n",
    "\n",
    "data.head()\n",
    "```\n"
   ]
  },
  {
   "cell_type": "code",
   "source": [
    "# Dataset simulado\n",
    "np.random.seed(42)\n",
    "\n",
    "data = pd.DataFrame({\n",
    "    'idade': np.random.randint(18, 70, 100),\n",
    "    'renda_anual': np.append(np.random.normal(50000, 15000, 95), [300000, 400000, np.nan, np.nan, np.nan]),\n",
    "    'dependentes': np.random.choice([0, 1, 2, 3, np.nan], 100),\n",
    "    'genero': np.random.choice(['masculino', 'feminino', None], 100),\n",
    "    'estado_civil': np.random.choice(['solteiro', 'casado', 'divorciado'], 100),\n",
    "    'dividas': np.append(np.random.normal(10000, 3000, 95), [70000, 80000, 100000, 90000, 85000]),\n",
    "    'inadimplente': np.random.choice([0, 1], 100)\n",
    "})\n",
    "\n",
    "data.head()"
   ],
   "metadata": {
    "colab": {
     "base_uri": "https://localhost:8080/",
     "height": 206
    },
    "id": "IePCHCLD7B6e",
    "executionInfo": {
     "status": "ok",
     "timestamp": 1744333823392,
     "user_tz": 180,
     "elapsed": 65,
     "user": {
      "displayName": "Leonardo Quirino",
      "userId": "09188993055052121239"
     }
    },
    "outputId": "bc6b84cf-f87c-4fb9-ee93-edc4dd66733d",
    "ExecuteTime": {
     "end_time": "2025-05-28T00:27:24.830312Z",
     "start_time": "2025-05-28T00:27:24.809262Z"
    }
   },
   "id": "IePCHCLD7B6e",
   "outputs": [
    {
     "data": {
      "text/plain": [
       "   idade   renda_anual  dependentes     genero estado_civil       dividas  \\\n",
       "0     56  21864.848417          2.0   feminino     solteiro  10196.947474   \n",
       "1     69  29498.267917          3.0  masculino     solteiro  10036.439527   \n",
       "2     46  59544.576625          0.0  masculino       casado  12792.802252   \n",
       "3     32  36399.189971          0.0  masculino     solteiro   8430.435719   \n",
       "4     60  57140.638811          1.0       None   divorciado  12847.428963   \n",
       "\n",
       "   inadimplente  \n",
       "0             1  \n",
       "1             0  \n",
       "2             1  \n",
       "3             0  \n",
       "4             1  "
      ],
      "text/html": [
       "<div>\n",
       "<style scoped>\n",
       "    .dataframe tbody tr th:only-of-type {\n",
       "        vertical-align: middle;\n",
       "    }\n",
       "\n",
       "    .dataframe tbody tr th {\n",
       "        vertical-align: top;\n",
       "    }\n",
       "\n",
       "    .dataframe thead th {\n",
       "        text-align: right;\n",
       "    }\n",
       "</style>\n",
       "<table border=\"1\" class=\"dataframe\">\n",
       "  <thead>\n",
       "    <tr style=\"text-align: right;\">\n",
       "      <th></th>\n",
       "      <th>idade</th>\n",
       "      <th>renda_anual</th>\n",
       "      <th>dependentes</th>\n",
       "      <th>genero</th>\n",
       "      <th>estado_civil</th>\n",
       "      <th>dividas</th>\n",
       "      <th>inadimplente</th>\n",
       "    </tr>\n",
       "  </thead>\n",
       "  <tbody>\n",
       "    <tr>\n",
       "      <th>0</th>\n",
       "      <td>56</td>\n",
       "      <td>21864.848417</td>\n",
       "      <td>2.0</td>\n",
       "      <td>feminino</td>\n",
       "      <td>solteiro</td>\n",
       "      <td>10196.947474</td>\n",
       "      <td>1</td>\n",
       "    </tr>\n",
       "    <tr>\n",
       "      <th>1</th>\n",
       "      <td>69</td>\n",
       "      <td>29498.267917</td>\n",
       "      <td>3.0</td>\n",
       "      <td>masculino</td>\n",
       "      <td>solteiro</td>\n",
       "      <td>10036.439527</td>\n",
       "      <td>0</td>\n",
       "    </tr>\n",
       "    <tr>\n",
       "      <th>2</th>\n",
       "      <td>46</td>\n",
       "      <td>59544.576625</td>\n",
       "      <td>0.0</td>\n",
       "      <td>masculino</td>\n",
       "      <td>casado</td>\n",
       "      <td>12792.802252</td>\n",
       "      <td>1</td>\n",
       "    </tr>\n",
       "    <tr>\n",
       "      <th>3</th>\n",
       "      <td>32</td>\n",
       "      <td>36399.189971</td>\n",
       "      <td>0.0</td>\n",
       "      <td>masculino</td>\n",
       "      <td>solteiro</td>\n",
       "      <td>8430.435719</td>\n",
       "      <td>0</td>\n",
       "    </tr>\n",
       "    <tr>\n",
       "      <th>4</th>\n",
       "      <td>60</td>\n",
       "      <td>57140.638811</td>\n",
       "      <td>1.0</td>\n",
       "      <td>None</td>\n",
       "      <td>divorciado</td>\n",
       "      <td>12847.428963</td>\n",
       "      <td>1</td>\n",
       "    </tr>\n",
       "  </tbody>\n",
       "</table>\n",
       "</div>"
      ]
     },
     "execution_count": 18,
     "metadata": {},
     "output_type": "execute_result"
    }
   ],
   "execution_count": 18
  },
  {
   "cell_type": "markdown",
   "id": "f6fed4ac",
   "metadata": {
    "id": "f6fed4ac"
   },
   "source": [
    "## 2. Tratamento de Dados Ausentes\n",
    "\n",
    "1. Identifique as colunas com dados ausentes.\n",
    "2. Aplique **imputação** para as colunas `renda_anual` e `dependentes`.\n",
    "\n",
    "```python\n",
    "# Seu código aqui\n",
    "```\n"
   ]
  },
  {
   "cell_type": "code",
   "source": [
    "data['renda_anual'] = data['renda_anual'].interpolate(method='linear')\n",
    "data['dependentes'] = data['dependentes'].interpolate(method='nearest')\n",
    "\n",
    "data[['renda_anual', 'dependentes']].head(25)"
   ],
   "metadata": {
    "colab": {
     "base_uri": "https://localhost:8080/",
     "height": 833
    },
    "id": "W2fM2L2d-uz1",
    "executionInfo": {
     "status": "ok",
     "timestamp": 1744333823738,
     "user_tz": 180,
     "elapsed": 44,
     "user": {
      "displayName": "Leonardo Quirino",
      "userId": "09188993055052121239"
     }
    },
    "outputId": "58e44db5-1fa6-4dcc-aa71-103647679fcf",
    "ExecuteTime": {
     "end_time": "2025-05-28T00:27:24.856479Z",
     "start_time": "2025-05-28T00:27:24.831515Z"
    }
   },
   "id": "W2fM2L2d-uz1",
   "outputs": [
    {
     "data": {
      "text/plain": [
       "     renda_anual  dependentes\n",
       "0   21864.848417          2.0\n",
       "1   29498.267917          3.0\n",
       "2   59544.576625          0.0\n",
       "3   36399.189971          0.0\n",
       "4   57140.638811          1.0\n",
       "5   69554.919026          1.0\n",
       "6   53173.805185          2.0\n",
       "7   58955.669693          3.0\n",
       "8   36554.972253          1.0\n",
       "9   48320.182692          0.0\n",
       "10  72034.119281          3.0\n",
       "11  33141.524982          3.0\n",
       "12  64250.080933          0.0\n",
       "13  75897.747029          1.0\n",
       "14  56868.276155          0.0\n",
       "15  24735.689325          3.0\n",
       "16  54902.678360          3.0\n",
       "17  48783.215688          2.0\n",
       "18  57016.921299          2.0\n",
       "19  61041.835260          0.0\n",
       "20  38304.471790          0.0\n",
       "21  37341.554595          2.0\n",
       "22  47741.992126          2.0\n",
       "23  35516.634922          2.0\n",
       "24  52257.336172          3.0"
      ],
      "text/html": [
       "<div>\n",
       "<style scoped>\n",
       "    .dataframe tbody tr th:only-of-type {\n",
       "        vertical-align: middle;\n",
       "    }\n",
       "\n",
       "    .dataframe tbody tr th {\n",
       "        vertical-align: top;\n",
       "    }\n",
       "\n",
       "    .dataframe thead th {\n",
       "        text-align: right;\n",
       "    }\n",
       "</style>\n",
       "<table border=\"1\" class=\"dataframe\">\n",
       "  <thead>\n",
       "    <tr style=\"text-align: right;\">\n",
       "      <th></th>\n",
       "      <th>renda_anual</th>\n",
       "      <th>dependentes</th>\n",
       "    </tr>\n",
       "  </thead>\n",
       "  <tbody>\n",
       "    <tr>\n",
       "      <th>0</th>\n",
       "      <td>21864.848417</td>\n",
       "      <td>2.0</td>\n",
       "    </tr>\n",
       "    <tr>\n",
       "      <th>1</th>\n",
       "      <td>29498.267917</td>\n",
       "      <td>3.0</td>\n",
       "    </tr>\n",
       "    <tr>\n",
       "      <th>2</th>\n",
       "      <td>59544.576625</td>\n",
       "      <td>0.0</td>\n",
       "    </tr>\n",
       "    <tr>\n",
       "      <th>3</th>\n",
       "      <td>36399.189971</td>\n",
       "      <td>0.0</td>\n",
       "    </tr>\n",
       "    <tr>\n",
       "      <th>4</th>\n",
       "      <td>57140.638811</td>\n",
       "      <td>1.0</td>\n",
       "    </tr>\n",
       "    <tr>\n",
       "      <th>5</th>\n",
       "      <td>69554.919026</td>\n",
       "      <td>1.0</td>\n",
       "    </tr>\n",
       "    <tr>\n",
       "      <th>6</th>\n",
       "      <td>53173.805185</td>\n",
       "      <td>2.0</td>\n",
       "    </tr>\n",
       "    <tr>\n",
       "      <th>7</th>\n",
       "      <td>58955.669693</td>\n",
       "      <td>3.0</td>\n",
       "    </tr>\n",
       "    <tr>\n",
       "      <th>8</th>\n",
       "      <td>36554.972253</td>\n",
       "      <td>1.0</td>\n",
       "    </tr>\n",
       "    <tr>\n",
       "      <th>9</th>\n",
       "      <td>48320.182692</td>\n",
       "      <td>0.0</td>\n",
       "    </tr>\n",
       "    <tr>\n",
       "      <th>10</th>\n",
       "      <td>72034.119281</td>\n",
       "      <td>3.0</td>\n",
       "    </tr>\n",
       "    <tr>\n",
       "      <th>11</th>\n",
       "      <td>33141.524982</td>\n",
       "      <td>3.0</td>\n",
       "    </tr>\n",
       "    <tr>\n",
       "      <th>12</th>\n",
       "      <td>64250.080933</td>\n",
       "      <td>0.0</td>\n",
       "    </tr>\n",
       "    <tr>\n",
       "      <th>13</th>\n",
       "      <td>75897.747029</td>\n",
       "      <td>1.0</td>\n",
       "    </tr>\n",
       "    <tr>\n",
       "      <th>14</th>\n",
       "      <td>56868.276155</td>\n",
       "      <td>0.0</td>\n",
       "    </tr>\n",
       "    <tr>\n",
       "      <th>15</th>\n",
       "      <td>24735.689325</td>\n",
       "      <td>3.0</td>\n",
       "    </tr>\n",
       "    <tr>\n",
       "      <th>16</th>\n",
       "      <td>54902.678360</td>\n",
       "      <td>3.0</td>\n",
       "    </tr>\n",
       "    <tr>\n",
       "      <th>17</th>\n",
       "      <td>48783.215688</td>\n",
       "      <td>2.0</td>\n",
       "    </tr>\n",
       "    <tr>\n",
       "      <th>18</th>\n",
       "      <td>57016.921299</td>\n",
       "      <td>2.0</td>\n",
       "    </tr>\n",
       "    <tr>\n",
       "      <th>19</th>\n",
       "      <td>61041.835260</td>\n",
       "      <td>0.0</td>\n",
       "    </tr>\n",
       "    <tr>\n",
       "      <th>20</th>\n",
       "      <td>38304.471790</td>\n",
       "      <td>0.0</td>\n",
       "    </tr>\n",
       "    <tr>\n",
       "      <th>21</th>\n",
       "      <td>37341.554595</td>\n",
       "      <td>2.0</td>\n",
       "    </tr>\n",
       "    <tr>\n",
       "      <th>22</th>\n",
       "      <td>47741.992126</td>\n",
       "      <td>2.0</td>\n",
       "    </tr>\n",
       "    <tr>\n",
       "      <th>23</th>\n",
       "      <td>35516.634922</td>\n",
       "      <td>2.0</td>\n",
       "    </tr>\n",
       "    <tr>\n",
       "      <th>24</th>\n",
       "      <td>52257.336172</td>\n",
       "      <td>3.0</td>\n",
       "    </tr>\n",
       "  </tbody>\n",
       "</table>\n",
       "</div>"
      ]
     },
     "execution_count": 19,
     "metadata": {},
     "output_type": "execute_result"
    }
   ],
   "execution_count": 19
  },
  {
   "cell_type": "markdown",
   "id": "2610d0c8",
   "metadata": {
    "id": "2610d0c8"
   },
   "source": [
    "## 3. Tratamento de Outliers\n",
    "\n",
    "1. Visualize os outliers usando boxplots para `renda_anual` e `dividas`.\n",
    "2. Aplique uma transformação de log em `renda_anual` e `dividas` para reduzir o impacto dos outliers.\n",
    "\n",
    "```python\n",
    "# Seu código aqui\n",
    "```\n"
   ]
  },
  {
   "cell_type": "code",
   "source": [
    "from scipy.stats.mstats import winsorize\n",
    "\n",
    "data['renda_anual'] = winsorize(data['renda_anual'], limits=[0.05, 0.05])\n",
    "data['dividas'] = winsorize(data['dividas'], limits=[0.05, 0.05])\n",
    "\n",
    "plt.boxplot(data['renda_anual'])\n",
    "plt.title('renda_anual')\n",
    "plt.show()\n",
    "\n",
    "plt.boxplot(data['dividas'])\n",
    "plt.title('dividas')\n",
    "plt.show()"
   ],
   "metadata": {
    "colab": {
     "base_uri": "https://localhost:8080/",
     "height": 887
    },
    "id": "Jk3LWDeEBqOD",
    "executionInfo": {
     "status": "ok",
     "timestamp": 1744333824192,
     "user_tz": 180,
     "elapsed": 193,
     "user": {
      "displayName": "Leonardo Quirino",
      "userId": "09188993055052121239"
     }
    },
    "outputId": "73fae1ae-2d70-4592-a66b-0e6838c53f28",
    "ExecuteTime": {
     "end_time": "2025-05-28T00:27:25.266496Z",
     "start_time": "2025-05-28T00:27:24.857951Z"
    }
   },
   "id": "Jk3LWDeEBqOD",
   "outputs": [
    {
     "data": {
      "text/plain": [
       "<Figure size 640x480 with 1 Axes>"
      ],
      "image/png": "[encoded data removed]"
     },
     "metadata": {},
     "output_type": "display_data"
    },
    {
     "data": {
      "text/plain": [
       "<Figure size 640x480 with 1 Axes>"
      ],
      "image/png": "[encoded data removed]"
     },
     "metadata": {},
     "output_type": "display_data"
    }
   ],
   "execution_count": 20
  },
  {
   "cell_type": "markdown",
   "id": "64a5fb6e",
   "metadata": {
    "id": "64a5fb6e"
   },
   "source": [
    "## 4. Codificação de Variáveis Categóricas\n",
    "\n",
    "1. Use **One Hot Encoding** para `estado_civil`.\n",
    "2. Use **Label Encoding** para `genero`.\n",
    "\n",
    "```python\n",
    "# Seu código aqui\n",
    "```\n"
   ]
  },
  {
   "cell_type": "code",
   "source": [
    "ohe = OneHotEncoder()\n",
    "ohe.fit(data[['estado_civil']])\n",
    "encoded_estado = ohe.transform(data[['estado_civil']]).toarray()\n",
    "encoded_estado_df = pd.DataFrame(encoded_estado, columns=ohe.get_feature_names_out())\n",
    "encoded_estado_df"
   ],
   "metadata": {
    "colab": {
     "base_uri": "https://localhost:8080/",
     "height": 424
    },
    "id": "jySXeq8KV9-W",
    "executionInfo": {
     "status": "ok",
     "timestamp": 1744333825969,
     "user_tz": 180,
     "elapsed": 32,
     "user": {
      "displayName": "Leonardo Quirino",
      "userId": "09188993055052121239"
     }
    },
    "outputId": "7d027fd3-41e4-4bf8-b6b9-f5637b142714",
    "ExecuteTime": {
     "end_time": "2025-05-28T00:27:25.304805Z",
     "start_time": "2025-05-28T00:27:25.274094Z"
    }
   },
   "id": "jySXeq8KV9-W",
   "outputs": [
    {
     "data": {
      "text/plain": [
       "    estado_civil_casado  estado_civil_divorciado  estado_civil_solteiro\n",
       "0                   0.0                      0.0                    1.0\n",
       "1                   0.0                      0.0                    1.0\n",
       "2                   1.0                      0.0                    0.0\n",
       "3                   0.0                      0.0                    1.0\n",
       "4                   0.0                      1.0                    0.0\n",
       "..                  ...                      ...                    ...\n",
       "95                  0.0                      1.0                    0.0\n",
       "96                  0.0                      0.0                    1.0\n",
       "97                  0.0                      1.0                    0.0\n",
       "98                  0.0                      0.0                    1.0\n",
       "99                  1.0                      0.0                    0.0\n",
       "\n",
       "[100 rows x 3 columns]"
      ],
      "text/html": [
       "<div>\n",
       "<style scoped>\n",
       "    .dataframe tbody tr th:only-of-type {\n",
       "        vertical-align: middle;\n",
       "    }\n",
       "\n",
       "    .dataframe tbody tr th {\n",
       "        vertical-align: top;\n",
       "    }\n",
       "\n",
       "    .dataframe thead th {\n",
       "        text-align: right;\n",
       "    }\n",
       "</style>\n",
       "<table border=\"1\" class=\"dataframe\">\n",
       "  <thead>\n",
       "    <tr style=\"text-align: right;\">\n",
       "      <th></th>\n",
       "      <th>estado_civil_casado</th>\n",
       "      <th>estado_civil_divorciado</th>\n",
       "      <th>estado_civil_solteiro</th>\n",
       "    </tr>\n",
       "  </thead>\n",
       "  <tbody>\n",
       "    <tr>\n",
       "      <th>0</th>\n",
       "      <td>0.0</td>\n",
       "      <td>0.0</td>\n",
       "      <td>1.0</td>\n",
       "    </tr>\n",
       "    <tr>\n",
       "      <th>1</th>\n",
       "      <td>0.0</td>\n",
       "      <td>0.0</td>\n",
       "      <td>1.0</td>\n",
       "    </tr>\n",
       "    <tr>\n",
       "      <th>2</th>\n",
       "      <td>1.0</td>\n",
       "      <td>0.0</td>\n",
       "      <td>0.0</td>\n",
       "    </tr>\n",
       "    <tr>\n",
       "      <th>3</th>\n",
       "      <td>0.0</td>\n",
       "      <td>0.0</td>\n",
       "      <td>1.0</td>\n",
       "    </tr>\n",
       "    <tr>\n",
       "      <th>4</th>\n",
       "      <td>0.0</td>\n",
       "      <td>1.0</td>\n",
       "      <td>0.0</td>\n",
       "    </tr>\n",
       "    <tr>\n",
       "      <th>...</th>\n",
       "      <td>...</td>\n",
       "      <td>...</td>\n",
       "      <td>...</td>\n",
       "    </tr>\n",
       "    <tr>\n",
       "      <th>95</th>\n",
       "      <td>0.0</td>\n",
       "      <td>1.0</td>\n",
       "      <td>0.0</td>\n",
       "    </tr>\n",
       "    <tr>\n",
       "      <th>96</th>\n",
       "      <td>0.0</td>\n",
       "      <td>0.0</td>\n",
       "      <td>1.0</td>\n",
       "    </tr>\n",
       "    <tr>\n",
       "      <th>97</th>\n",
       "      <td>0.0</td>\n",
       "      <td>1.0</td>\n",
       "      <td>0.0</td>\n",
       "    </tr>\n",
       "    <tr>\n",
       "      <th>98</th>\n",
       "      <td>0.0</td>\n",
       "      <td>0.0</td>\n",
       "      <td>1.0</td>\n",
       "    </tr>\n",
       "    <tr>\n",
       "      <th>99</th>\n",
       "      <td>1.0</td>\n",
       "      <td>0.0</td>\n",
       "      <td>0.0</td>\n",
       "    </tr>\n",
       "  </tbody>\n",
       "</table>\n",
       "<p>100 rows × 3 columns</p>\n",
       "</div>"
      ]
     },
     "execution_count": 21,
     "metadata": {},
     "output_type": "execute_result"
    }
   ],
   "execution_count": 21
  },
  {
   "cell_type": "code",
   "source": [
    "LE = LabelEncoder()\n",
    "encoded_gen = LE.fit_transform(data['genero'])\n",
    "encoded_gen_df = pd.DataFrame(encoded_gen)\n",
    "encoded_gen_df"
   ],
   "metadata": {
    "colab": {
     "base_uri": "https://localhost:8080/",
     "height": 300
    },
    "id": "4ziQP_3DJu5E",
    "executionInfo": {
     "status": "error",
     "timestamp": 1744333876328,
     "user_tz": 180,
     "elapsed": 48,
     "user": {
      "displayName": "Leonardo Quirino",
      "userId": "09188993055052121239"
     }
    },
    "outputId": "cac74bf7-5016-4113-bb91-2c3530041f98",
    "ExecuteTime": {
     "end_time": "2025-05-28T00:27:25.324818Z",
     "start_time": "2025-05-28T00:27:25.304805Z"
    }
   },
   "id": "4ziQP_3DJu5E",
   "outputs": [
    {
     "data": {
      "text/plain": [
       "    0\n",
       "0   0\n",
       "1   1\n",
       "2   1\n",
       "3   1\n",
       "4   2\n",
       ".. ..\n",
       "95  2\n",
       "96  0\n",
       "97  2\n",
       "98  1\n",
       "99  0\n",
       "\n",
       "[100 rows x 1 columns]"
      ],
      "text/html": [
       "<div>\n",
       "<style scoped>\n",
       "    .dataframe tbody tr th:only-of-type {\n",
       "        vertical-align: middle;\n",
       "    }\n",
       "\n",
       "    .dataframe tbody tr th {\n",
       "        vertical-align: top;\n",
       "    }\n",
       "\n",
       "    .dataframe thead th {\n",
       "        text-align: right;\n",
       "    }\n",
       "</style>\n",
       "<table border=\"1\" class=\"dataframe\">\n",
       "  <thead>\n",
       "    <tr style=\"text-align: right;\">\n",
       "      <th></th>\n",
       "      <th>0</th>\n",
       "    </tr>\n",
       "  </thead>\n",
       "  <tbody>\n",
       "    <tr>\n",
       "      <th>0</th>\n",
       "      <td>0</td>\n",
       "    </tr>\n",
       "    <tr>\n",
       "      <th>1</th>\n",
       "      <td>1</td>\n",
       "    </tr>\n",
       "    <tr>\n",
       "      <th>2</th>\n",
       "      <td>1</td>\n",
       "    </tr>\n",
       "    <tr>\n",
       "      <th>3</th>\n",
       "      <td>1</td>\n",
       "    </tr>\n",
       "    <tr>\n",
       "      <th>4</th>\n",
       "      <td>2</td>\n",
       "    </tr>\n",
       "    <tr>\n",
       "      <th>...</th>\n",
       "      <td>...</td>\n",
       "    </tr>\n",
       "    <tr>\n",
       "      <th>95</th>\n",
       "      <td>2</td>\n",
       "    </tr>\n",
       "    <tr>\n",
       "      <th>96</th>\n",
       "      <td>0</td>\n",
       "    </tr>\n",
       "    <tr>\n",
       "      <th>97</th>\n",
       "      <td>2</td>\n",
       "    </tr>\n",
       "    <tr>\n",
       "      <th>98</th>\n",
       "      <td>1</td>\n",
       "    </tr>\n",
       "    <tr>\n",
       "      <th>99</th>\n",
       "      <td>0</td>\n",
       "    </tr>\n",
       "  </tbody>\n",
       "</table>\n",
       "<p>100 rows × 1 columns</p>\n",
       "</div>"
      ]
     },
     "execution_count": 22,
     "metadata": {},
     "output_type": "execute_result"
    }
   ],
   "execution_count": 22
  },
  {
   "cell_type": "markdown",
   "id": "1884ed05",
   "metadata": {
    "id": "1884ed05"
   },
   "source": [
    "## 5. Redução de Dimensionalidade com PCA\n",
    "\n",
    "1. Aplique `StandardScaler` nos dados numéricos.\n",
    "2. Utilize `PCA` e reduza a dimensionalidade para 2 componentes principais.\n",
    "3. Visualize a dispersão dos dados com `matplotlib`.\n",
    "\n",
    "```python\n",
    "# Seu código aqui\n",
    "```\n"
   ]
  }
 ],
 "metadata": {
  "language_info": {
   "name": "python"
  },
  "colab": {
   "provenance": [
    {
     "file_id": "1Lm5BGdP3uUGjYv9vbg5NA9iFzdE7OCtI",
     "timestamp": 1744334506171
    }
   ]
  },
  "kernelspec": {
   "name": "python3",
   "display_name": "Python 3 (ipykernel)",
   "language": "python"
  }
 },
 "nbformat": 4,
 "nbformat_minor": 5
}
