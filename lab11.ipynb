{
 "nbformat": 4,
 "nbformat_minor": 0,
 "metadata": {
  "colab": {
   "provenance": []
  },
  "kernelspec": {
   "name": "python3",
   "display_name": "Python 3 (ipykernel)",
   "language": "python"
  },
  "language_info": {
   "name": "python"
  }
 },
 "cells": [
  {
   "cell_type": "markdown",
   "source": [
    "# Laboratório Feature selection"
   ],
   "metadata": {
    "id": "P8thDhaGdzzD"
   }
  },
  {
   "cell_type": "code",
   "source": [
    "import numpy as np\n",
    "import pandas as pd\n",
    "import matplotlib.pyplot as plt\n",
    "from sklearn.model_selection import train_test_split\n",
    "from sklearn.datasets import load_wine, load_breast_cancer\n",
    "from sklearn.linear_model import LogisticRegression\n",
    "from sklearn.feature_selection import SelectKBest, chi2, RFE\n",
    "from sklearn.preprocessing import StandardScaler\n",
    "from sklearn.metrics import accuracy_score\n",
    "\n",
    "# Carregar o dataset Wine\n",
    "data = load_wine()\n",
    "X = data.data\n",
    "y = data.target\n",
    "\n",
    "# Dividir os dados em conjunto de treino e teste\n",
    "X_train, X_test, y_train, y_test = train_test_split(X, y, test_size=0.3, random_state=42)\n",
    "\n",
    "# 1. Normalizando os dados para melhorar a convergência da regressão logística\n",
    "scaler = StandardScaler()\n",
    "X_train_scaled = scaler.fit_transform(X_train)\n",
    "X_test_scaled = scaler.transform(X_test)\n",
    "\n"
   ],
   "metadata": {
    "id": "PcTKotncdy3Z",
    "ExecuteTime": {
     "end_time": "2025-04-25T01:08:38.637261Z",
     "start_time": "2025-04-25T01:08:28.981550Z"
    }
   },
   "outputs": [],
   "execution_count": 1
  },
  {
   "cell_type": "code",
   "source": [
    "\n",
    "# 2. Treinando com todos os recursos (sem feature selection)\n",
    "model_no_fs = LogisticRegression(max_iter=10000, random_state=42)\n",
    "model_no_fs.fit(X_train_scaled, y_train)\n",
    "y_pred_no_fs = model_no_fs.predict(X_test_scaled)\n",
    "acc_no_fs = accuracy_score(y_test, y_pred_no_fs)\n",
    "\n",
    "# 3. Seleção de características com SelectKBest\n",
    "select_k_best = SelectKBest(chi2, k=5)  # Seleciona as 5 melhores características\n",
    "X_train_kbest = select_k_best.fit_transform(X_train, y_train)\n",
    "X_test_kbest = select_k_best.transform(X_test)\n",
    "\n",
    "model_kbest = LogisticRegression(max_iter=10000, random_state=42)\n",
    "model_kbest.fit(X_train_kbest, y_train)\n",
    "y_pred_kbest = model_kbest.predict(X_test_kbest)\n",
    "acc_kbest = accuracy_score(y_test, y_pred_kbest)\n",
    "\n"
   ],
   "metadata": {
    "id": "KoAuFmxsgWZl",
    "ExecuteTime": {
     "end_time": "2025-04-25T01:08:42.188832Z",
     "start_time": "2025-04-25T01:08:38.637261Z"
    }
   },
   "outputs": [],
   "execution_count": 2
  },
  {
   "cell_type": "code",
   "source": [
    "\n",
    "# 4. Seleção de características com RFE (Recursive Feature Elimination)\n",
    "rfe = RFE(estimator=LogisticRegression(max_iter=10000), n_features_to_select=5)\n",
    "X_train_rfe = rfe.fit_transform(X_train_scaled, y_train)  # Usando dados normalizados\n",
    "X_test_rfe = rfe.transform(X_test_scaled)\n",
    "\n",
    "model_rfe = LogisticRegression(max_iter=10000, random_state=42)\n",
    "model_rfe.fit(X_train_rfe, y_train)\n",
    "y_pred_rfe = model_rfe.predict(X_test_rfe)\n",
    "acc_rfe = accuracy_score(y_test, y_pred_rfe)\n"
   ],
   "metadata": {
    "id": "wZuyr71qgY2i",
    "ExecuteTime": {
     "end_time": "2025-04-25T01:08:42.464341Z",
     "start_time": "2025-04-25T01:08:42.188832Z"
    }
   },
   "outputs": [],
   "execution_count": 3
  },
  {
   "cell_type": "code",
   "source": [
    "\n",
    "# 5. Comparando acurácias\n",
    "results = pd.DataFrame({\n",
    "    'Modelo': ['Sem Feature Selection', 'SelectKBest (k=5)', 'RFE (5 Features)'],\n",
    "    'Acurácia': [acc_no_fs, acc_kbest, acc_rfe]\n",
    "})\n",
    "\n",
    "# Plotando o gráfico comparativo\n",
    "plt.figure(figsize=(8, 6))\n",
    "plt.bar(results['Modelo'], results['Acurácia'], color=['blue', 'green', 'orange'])\n",
    "plt.ylim(0, 1)\n",
    "plt.ylabel('Acurácia')\n",
    "plt.title('Comparação de Acurácia com e sem Feature Selection')\n",
    "plt.show()\n",
    "\n",
    "# Exibindo os resultados\n",
    "print(results)"
   ],
   "metadata": {
    "id": "Uv7r6basgapc",
    "colab": {
     "base_uri": "https://localhost:8080/",
     "height": 618
    },
    "outputId": "b9548541-918f-4b9e-fe6d-0f99e27aa34f",
    "ExecuteTime": {
     "end_time": "2025-04-25T01:08:42.854799Z",
     "start_time": "2025-04-25T01:08:42.464341Z"
    }
   },
   "outputs": [
    {
     "data": {
      "text/plain": [
       "<Figure size 800x600 with 1 Axes>"
      ],
      "image/png": "[encoded data removed]"
     },
     "metadata": {},
     "output_type": "display_data"
    },
    {
     "name": "stdout",
     "output_type": "stream",
     "text": [
      "                  Modelo  Acurácia\n",
      "0  Sem Feature Selection  0.981481\n",
      "1      SelectKBest (k=5)  0.944444\n",
      "2       RFE (5 Features)  1.000000\n"
     ]
    }
   ],
   "execution_count": 4
  },
  {
   "cell_type": "code",
   "source": [
    "# Testem com o Random Classifier\n",
    "\n",
    "from sklearn.ensemble import RandomForestClassifier\n",
    "\n",
    "# 2. Treinando o modelo Random Forest Classifier (sem feature selection)\n",
    "rf_model = RandomForestClassifier(random_state=42)\n",
    "rf_model.fit(X_train, y_train)\n",
    "rf_pred = rf_model.predict(X_test)\n",
    "rf_acc = accuracy_score(y_test, rf_pred)\n",
    "feature_importance = rf_model.feature_importances_\n",
    "importance_indices = np.argsort(feature_importance)[::-1]  # Ordenando as importâncias\n",
    "\n",
    "# Selecione as 5 características mais importantes\n",
    "top_5_features = importance_indices[:5]\n",
    "X_train_top5 = X_train_scaled[:, top_5_features]\n",
    "X_test_top5 = X_test_scaled[:, top_5_features]\n",
    "\n",
    "# 5. Treinando novamente o modelo Random Forest com as 5 características mais importantes\n",
    "rf_model_top5 = RandomForestClassifier(random_state=42)\n",
    "rf_model_top5.fit(X_train_top5, y_train)\n",
    "rf_pred_top5 = rf_model_top5.predict(X_test_top5)\n",
    "rf_acc_top5 = accuracy_score(y_test, rf_pred_top5)\n",
    "\n",
    "# 6. Comparando os Modelos\n",
    "# Vamos agora comparar a acurácia dos modelos:\n",
    "# 1. Random Forest sem feature selection\n",
    "# 2. Logistic Regression sem feature selection\n",
    "# 3. Random Forest usando Feature Importance\n",
    "\n",
    "results = pd.DataFrame({\n",
    "    'Modelo': ['Random Forest (Sem Feature Selection)', 'Logistic Regression (Sem Feature Selection)',\n",
    "               'Random Forest (Feature Importance)','SelectKBest (k=5)', 'RFE (5 Features)'],\n",
    "    'Acurácia': [rf_acc, acc_no_fs, rf_acc_top5, acc_kbest, acc_rfe]\n",
    "})\n",
    "\n",
    "print(results)\n",
    "\n",
    "\n"
   ],
   "metadata": {
    "colab": {
     "base_uri": "https://localhost:8080/"
    },
    "id": "_xi4mZJzgbvw",
    "outputId": "40ce28fa-b8bd-4af4-938c-434409bd823f",
    "ExecuteTime": {
     "end_time": "2025-04-25T01:08:43.751639Z",
     "start_time": "2025-04-25T01:08:42.862448Z"
    }
   },
   "outputs": [
    {
     "name": "stdout",
     "output_type": "stream",
     "text": [
      "                                        Modelo  Acurácia\n",
      "0        Random Forest (Sem Feature Selection)  1.000000\n",
      "1  Logistic Regression (Sem Feature Selection)  0.981481\n",
      "2           Random Forest (Feature Importance)  0.981481\n",
      "3                            SelectKBest (k=5)  0.944444\n",
      "4                             RFE (5 Features)  1.000000\n"
     ]
    }
   ],
   "execution_count": 5
  },
  {
   "cell_type": "markdown",
   "source": [
    "# Laboratório Cross-Validation"
   ],
   "metadata": {
    "id": "yN1ImLPpZACz"
   }
  },
  {
   "cell_type": "code",
   "metadata": {
    "id": "9tQBXha2YcR8",
    "ExecuteTime": {
     "end_time": "2025-04-25T01:08:43.765263Z",
     "start_time": "2025-04-25T01:08:43.755851Z"
    }
   },
   "source": [
    "# Parte 1 – Preparação do ambiente\n",
    "import numpy as np\n",
    "import pandas as pd\n",
    "import matplotlib.pyplot as plt\n",
    "from sklearn.datasets import load_wine\n",
    "from sklearn.model_selection import train_test_split, cross_val_score, GridSearchCV, KFold\n",
    "from sklearn.preprocessing import StandardScaler\n",
    "from sklearn.linear_model import LogisticRegression\n",
    "from sklearn.metrics import accuracy_score\n"
   ],
   "outputs": [],
   "execution_count": 6
  },
  {
   "cell_type": "code",
   "source": [
    "# Parte 2 – Carregamento e pré-processamento dos dados\n",
    "data = load_wine()\n",
    "X = data.data\n",
    "y = data.target"
   ],
   "metadata": {
    "id": "g0DLqNm6YieG",
    "ExecuteTime": {
     "end_time": "2025-04-25T01:08:43.786310Z",
     "start_time": "2025-04-25T01:08:43.772240Z"
    }
   },
   "outputs": [],
   "execution_count": 7
  },
  {
   "cell_type": "code",
   "source": [
    "# Parte 3. Dividir em treino e teste\n",
    "X_train, X_test, y_train, y_test = train_test_split(X, y, test_size=0.2, random_state=42)\n"
   ],
   "metadata": {
    "id": "GfXc1r07Ymsc",
    "ExecuteTime": {
     "end_time": "2025-04-25T01:08:43.801057Z",
     "start_time": "2025-04-25T01:08:43.786826Z"
    }
   },
   "outputs": [],
   "execution_count": 8
  },
  {
   "cell_type": "code",
   "source": [
    "# Parte 4. Padronizar  -- testar diferentes normalizações!\n",
    "scaler = StandardScaler()\n",
    "X_train_scaled = scaler.fit_transform(X_train)\n",
    "X_test_scaled = scaler.transform(X_test)"
   ],
   "metadata": {
    "id": "cxadL2oyYoi5",
    "ExecuteTime": {
     "end_time": "2025-04-25T01:08:43.816985Z",
     "start_time": "2025-04-25T01:08:43.803902Z"
    }
   },
   "outputs": [],
   "execution_count": 9
  },
  {
   "cell_type": "code",
   "source": [
    "# Parte 5. Criar modelo\n",
    "model = LogisticRegression(max_iter=10000)"
   ],
   "metadata": {
    "id": "sF36qNavY0YI",
    "ExecuteTime": {
     "end_time": "2025-04-25T01:08:43.828768Z",
     "start_time": "2025-04-25T01:08:43.816985Z"
    }
   },
   "outputs": [],
   "execution_count": 10
  },
  {
   "cell_type": "code",
   "source": [
    "# Parte 6. Aplicar cross-validation APENAS no treino\n",
    "#sem treino e teste\n",
    "#cv_scores = cross_val_score(model, X, y, cv=5)\n",
    "\n",
    "cv_scores = cross_val_score(model, X_train_scaled, y_train, cv=5)\n",
    "print(\"Acurácias na validação cruzada (treino):\", cv_scores)\n",
    "\n",
    "print(\"Média da validação cruzada:\", cv_scores.mean())\n",
    "print(\"Desvio padrão da validação cruzada:\", cv_scores.std())"
   ],
   "metadata": {
    "colab": {
     "base_uri": "https://localhost:8080/"
    },
    "id": "8y05sEMBY2ix",
    "outputId": "679e1162-f6e5-4b23-c9e3-bc0730078bb2",
    "ExecuteTime": {
     "end_time": "2025-04-25T01:08:43.945319Z",
     "start_time": "2025-04-25T01:08:43.831518Z"
    }
   },
   "outputs": [
    {
     "name": "stdout",
     "output_type": "stream",
     "text": [
      "Acurácias na validação cruzada (treino): [0.96551724 0.96551724 1.         0.96428571 1.        ]\n",
      "Média da validação cruzada: 0.9790640394088671\n",
      "Desvio padrão da validação cruzada: 0.01710005414552686\n"
     ]
    }
   ],
   "execution_count": 11
  },
  {
   "cell_type": "code",
   "source": [
    "\n",
    "# Parte 7. Treinar no treino completo\n",
    "model.fit(X_train_scaled, y_train)\n",
    "\n",
    "# Parte 8. Avaliar no teste\n",
    "test_accuracy = model.score(X_test_scaled, y_test)"
   ],
   "metadata": {
    "id": "5DpOzjHla1qF",
    "ExecuteTime": {
     "end_time": "2025-04-25T01:08:43.979369Z",
     "start_time": "2025-04-25T01:08:43.947084Z"
    }
   },
   "outputs": [],
   "execution_count": 12
  },
  {
   "cell_type": "code",
   "source": [
    "print(\"Acurácia no conjunto de teste:\", test_accuracy)"
   ],
   "metadata": {
    "colab": {
     "base_uri": "https://localhost:8080/"
    },
    "id": "9szCUhbFawrd",
    "outputId": "542793f8-9abe-4679-fc9c-6ceba4ebdad0",
    "ExecuteTime": {
     "end_time": "2025-04-25T01:08:43.993322Z",
     "start_time": "2025-04-25T01:08:43.983104Z"
    }
   },
   "outputs": [
    {
     "name": "stdout",
     "output_type": "stream",
     "text": [
      "Acurácia no conjunto de teste: 1.0\n"
     ]
    }
   ],
   "execution_count": 13
  },
  {
   "cell_type": "code",
   "source": [
    "#Testando sem validação\n",
    "model.fit(X, y)\n",
    "test_accuracy = model.score(X, y)"
   ],
   "metadata": {
    "id": "acbv582fbOR7",
    "ExecuteTime": {
     "end_time": "2025-04-25T01:08:48.766881Z",
     "start_time": "2025-04-25T01:08:44.001075Z"
    }
   },
   "outputs": [],
   "execution_count": 14
  },
  {
   "cell_type": "code",
   "source": [
    "print(\"Acurácia no conjunto de teste:\", test_accuracy)"
   ],
   "metadata": {
    "colab": {
     "base_uri": "https://localhost:8080/"
    },
    "id": "0VREx4-9bWTa",
    "outputId": "48c127f8-4ade-4dff-9910-ac85d6b14ef9",
    "ExecuteTime": {
     "end_time": "2025-04-25T01:08:48.789652Z",
     "start_time": "2025-04-25T01:08:48.772943Z"
    }
   },
   "outputs": [
    {
     "name": "stdout",
     "output_type": "stream",
     "text": [
      "Acurácia no conjunto de teste: 0.9943820224719101\n"
     ]
    }
   ],
   "execution_count": 15
  },
  {
   "cell_type": "code",
   "source": [
    "# 5. Definir os hiperparâmetros a serem testados\n",
    "param_grid = {'C': [0.01, 0.1, 1, 10, 100]}\n",
    "\n",
    "# 6. Aplicar GridSearchCV somente no treino\n",
    "grid = GridSearchCV(model, param_grid, cv=5)\n",
    "grid.fit(X_train_scaled, y_train)"
   ],
   "metadata": {
    "colab": {
     "base_uri": "https://localhost:8080/",
     "height": 165
    },
    "id": "mjVZgMChbqwz",
    "outputId": "db0eb24b-aa1d-45f4-b5a2-79076dcaece4",
    "ExecuteTime": {
     "end_time": "2025-04-25T01:08:49.449603Z",
     "start_time": "2025-04-25T01:08:48.797120Z"
    }
   },
   "outputs": [
    {
     "data": {
      "text/plain": [
       "GridSearchCV(cv=5, estimator=LogisticRegression(max_iter=10000),\n",
       "             param_grid={'C': [0.01, 0.1, 1, 10, 100]})"
      ],
      "text/html": [
       "<style>#sk-container-id-1 {\n",
       "  /* Definition of color scheme common for light and dark mode */\n",
       "  --sklearn-color-text: #000;\n",
       "  --sklearn-color-text-muted: #666;\n",
       "  --sklearn-color-line: gray;\n",
       "  /* Definition of color scheme for unfitted estimators */\n",
       "  --sklearn-color-unfitted-level-0: #fff5e6;\n",
       "  --sklearn-color-unfitted-level-1: #f6e4d2;\n",
       "  --sklearn-color-unfitted-level-2: #ffe0b3;\n",
       "  --sklearn-color-unfitted-level-3: chocolate;\n",
       "  /* Definition of color scheme for fitted estimators */\n",
       "  --sklearn-color-fitted-level-0: #f0f8ff;\n",
       "  --sklearn-color-fitted-level-1: #d4ebff;\n",
       "  --sklearn-color-fitted-level-2: #b3dbfd;\n",
       "  --sklearn-color-fitted-level-3: cornflowerblue;\n",
       "\n",
       "  /* Specific color for light theme */\n",
       "  --sklearn-color-text-on-default-background: var(--sg-text-color, var(--theme-code-foreground, var(--jp-content-font-color1, black)));\n",
       "  --sklearn-color-background: var(--sg-background-color, var(--theme-background, var(--jp-layout-color0, white)));\n",
       "  --sklearn-color-border-box: var(--sg-text-color, var(--theme-code-foreground, var(--jp-content-font-color1, black)));\n",
       "  --sklearn-color-icon: #696969;\n",
       "\n",
       "  @media (prefers-color-scheme: dark) {\n",
       "    /* Redefinition of color scheme for dark theme */\n",
       "    --sklearn-color-text-on-default-background: var(--sg-text-color, var(--theme-code-foreground, var(--jp-content-font-color1, white)));\n",
       "    --sklearn-color-background: var(--sg-background-color, var(--theme-background, var(--jp-layout-color0, #111)));\n",
       "    --sklearn-color-border-box: var(--sg-text-color, var(--theme-code-foreground, var(--jp-content-font-color1, white)));\n",
       "    --sklearn-color-icon: #878787;\n",
       "  }\n",
       "}\n",
       "\n",
       "#sk-container-id-1 {\n",
       "  color: var(--sklearn-color-text);\n",
       "}\n",
       "\n",
       "#sk-container-id-1 pre {\n",
       "  padding: 0;\n",
       "}\n",
       "\n",
       "#sk-container-id-1 input.sk-hidden--visually {\n",
       "  border: 0;\n",
       "  clip: rect(1px 1px 1px 1px);\n",
       "  clip: rect(1px, 1px, 1px, 1px);\n",
       "  height: 1px;\n",
       "  margin: -1px;\n",
       "  overflow: hidden;\n",
       "  padding: 0;\n",
       "  position: absolute;\n",
       "  width: 1px;\n",
       "}\n",
       "\n",
       "#sk-container-id-1 div.sk-dashed-wrapped {\n",
       "  border: 1px dashed var(--sklearn-color-line);\n",
       "  margin: 0 0.4em 0.5em 0.4em;\n",
       "  box-sizing: border-box;\n",
       "  padding-bottom: 0.4em;\n",
       "  background-color: var(--sklearn-color-background);\n",
       "}\n",
       "\n",
       "#sk-container-id-1 div.sk-container {\n",
       "  /* jupyter's `normalize.less` sets `[hidden] { display: none; }`\n",
       "     but bootstrap.min.css set `[hidden] { display: none !important; }`\n",
       "     so we also need the `!important` here to be able to override the\n",
       "     default hidden behavior on the sphinx rendered scikit-learn.org.\n",
       "     See: https://github.com/scikit-learn/scikit-learn/issues/21755 */\n",
       "  display: inline-block !important;\n",
       "  position: relative;\n",
       "}\n",
       "\n",
       "#sk-container-id-1 div.sk-text-repr-fallback {\n",
       "  display: none;\n",
       "}\n",
       "\n",
       "div.sk-parallel-item,\n",
       "div.sk-serial,\n",
       "div.sk-item {\n",
       "  /* draw centered vertical line to link estimators */\n",
       "  background-image: linear-gradient(var(--sklearn-color-text-on-default-background), var(--sklearn-color-text-on-default-background));\n",
       "  background-size: 2px 100%;\n",
       "  background-repeat: no-repeat;\n",
       "  background-position: center center;\n",
       "}\n",
       "\n",
       "/* Parallel-specific style estimator block */\n",
       "\n",
       "#sk-container-id-1 div.sk-parallel-item::after {\n",
       "  content: \"\";\n",
       "  width: 100%;\n",
       "  border-bottom: 2px solid var(--sklearn-color-text-on-default-background);\n",
       "  flex-grow: 1;\n",
       "}\n",
       "\n",
       "#sk-container-id-1 div.sk-parallel {\n",
       "  display: flex;\n",
       "  align-items: stretch;\n",
       "  justify-content: center;\n",
       "  background-color: var(--sklearn-color-background);\n",
       "  position: relative;\n",
       "}\n",
       "\n",
       "#sk-container-id-1 div.sk-parallel-item {\n",
       "  display: flex;\n",
       "  flex-direction: column;\n",
       "}\n",
       "\n",
       "#sk-container-id-1 div.sk-parallel-item:first-child::after {\n",
       "  align-self: flex-end;\n",
       "  width: 50%;\n",
       "}\n",
       "\n",
       "#sk-container-id-1 div.sk-parallel-item:last-child::after {\n",
       "  align-self: flex-start;\n",
       "  width: 50%;\n",
       "}\n",
       "\n",
       "#sk-container-id-1 div.sk-parallel-item:only-child::after {\n",
       "  width: 0;\n",
       "}\n",
       "\n",
       "/* Serial-specific style estimator block */\n",
       "\n",
       "#sk-container-id-1 div.sk-serial {\n",
       "  display: flex;\n",
       "  flex-direction: column;\n",
       "  align-items: center;\n",
       "  background-color: var(--sklearn-color-background);\n",
       "  padding-right: 1em;\n",
       "  padding-left: 1em;\n",
       "}\n",
       "\n",
       "\n",
       "/* Toggleable style: style used for estimator/Pipeline/ColumnTransformer box that is\n",
       "clickable and can be expanded/collapsed.\n",
       "- Pipeline and ColumnTransformer use this feature and define the default style\n",
       "- Estimators will overwrite some part of the style using the `sk-estimator` class\n",
       "*/\n",
       "\n",
       "/* Pipeline and ColumnTransformer style (default) */\n",
       "\n",
       "#sk-container-id-1 div.sk-toggleable {\n",
       "  /* Default theme specific background. It is overwritten whether we have a\n",
       "  specific estimator or a Pipeline/ColumnTransformer */\n",
       "  background-color: var(--sklearn-color-background);\n",
       "}\n",
       "\n",
       "/* Toggleable label */\n",
       "#sk-container-id-1 label.sk-toggleable__label {\n",
       "  cursor: pointer;\n",
       "  display: flex;\n",
       "  width: 100%;\n",
       "  margin-bottom: 0;\n",
       "  padding: 0.5em;\n",
       "  box-sizing: border-box;\n",
       "  text-align: center;\n",
       "  align-items: start;\n",
       "  justify-content: space-between;\n",
       "  gap: 0.5em;\n",
       "}\n",
       "\n",
       "#sk-container-id-1 label.sk-toggleable__label .caption {\n",
       "  font-size: 0.6rem;\n",
       "  font-weight: lighter;\n",
       "  color: var(--sklearn-color-text-muted);\n",
       "}\n",
       "\n",
       "#sk-container-id-1 label.sk-toggleable__label-arrow:before {\n",
       "  /* Arrow on the left of the label */\n",
       "  content: \"▸\";\n",
       "  float: left;\n",
       "  margin-right: 0.25em;\n",
       "  color: var(--sklearn-color-icon);\n",
       "}\n",
       "\n",
       "#sk-container-id-1 label.sk-toggleable__label-arrow:hover:before {\n",
       "  color: var(--sklearn-color-text);\n",
       "}\n",
       "\n",
       "/* Toggleable content - dropdown */\n",
       "\n",
       "#sk-container-id-1 div.sk-toggleable__content {\n",
       "  max-height: 0;\n",
       "  max-width: 0;\n",
       "  overflow: hidden;\n",
       "  text-align: left;\n",
       "  /* unfitted */\n",
       "  background-color: var(--sklearn-color-unfitted-level-0);\n",
       "}\n",
       "\n",
       "#sk-container-id-1 div.sk-toggleable__content.fitted {\n",
       "  /* fitted */\n",
       "  background-color: var(--sklearn-color-fitted-level-0);\n",
       "}\n",
       "\n",
       "#sk-container-id-1 div.sk-toggleable__content pre {\n",
       "  margin: 0.2em;\n",
       "  border-radius: 0.25em;\n",
       "  color: var(--sklearn-color-text);\n",
       "  /* unfitted */\n",
       "  background-color: var(--sklearn-color-unfitted-level-0);\n",
       "}\n",
       "\n",
       "#sk-container-id-1 div.sk-toggleable__content.fitted pre {\n",
       "  /* unfitted */\n",
       "  background-color: var(--sklearn-color-fitted-level-0);\n",
       "}\n",
       "\n",
       "#sk-container-id-1 input.sk-toggleable__control:checked~div.sk-toggleable__content {\n",
       "  /* Expand drop-down */\n",
       "  max-height: 200px;\n",
       "  max-width: 100%;\n",
       "  overflow: auto;\n",
       "}\n",
       "\n",
       "#sk-container-id-1 input.sk-toggleable__control:checked~label.sk-toggleable__label-arrow:before {\n",
       "  content: \"▾\";\n",
       "}\n",
       "\n",
       "/* Pipeline/ColumnTransformer-specific style */\n",
       "\n",
       "#sk-container-id-1 div.sk-label input.sk-toggleable__control:checked~label.sk-toggleable__label {\n",
       "  color: var(--sklearn-color-text);\n",
       "  background-color: var(--sklearn-color-unfitted-level-2);\n",
       "}\n",
       "\n",
       "#sk-container-id-1 div.sk-label.fitted input.sk-toggleable__control:checked~label.sk-toggleable__label {\n",
       "  background-color: var(--sklearn-color-fitted-level-2);\n",
       "}\n",
       "\n",
       "/* Estimator-specific style */\n",
       "\n",
       "/* Colorize estimator box */\n",
       "#sk-container-id-1 div.sk-estimator input.sk-toggleable__control:checked~label.sk-toggleable__label {\n",
       "  /* unfitted */\n",
       "  background-color: var(--sklearn-color-unfitted-level-2);\n",
       "}\n",
       "\n",
       "#sk-container-id-1 div.sk-estimator.fitted input.sk-toggleable__control:checked~label.sk-toggleable__label {\n",
       "  /* fitted */\n",
       "  background-color: var(--sklearn-color-fitted-level-2);\n",
       "}\n",
       "\n",
       "#sk-container-id-1 div.sk-label label.sk-toggleable__label,\n",
       "#sk-container-id-1 div.sk-label label {\n",
       "  /* The background is the default theme color */\n",
       "  color: var(--sklearn-color-text-on-default-background);\n",
       "}\n",
       "\n",
       "/* On hover, darken the color of the background */\n",
       "#sk-container-id-1 div.sk-label:hover label.sk-toggleable__label {\n",
       "  color: var(--sklearn-color-text);\n",
       "  background-color: var(--sklearn-color-unfitted-level-2);\n",
       "}\n",
       "\n",
       "/* Label box, darken color on hover, fitted */\n",
       "#sk-container-id-1 div.sk-label.fitted:hover label.sk-toggleable__label.fitted {\n",
       "  color: var(--sklearn-color-text);\n",
       "  background-color: var(--sklearn-color-fitted-level-2);\n",
       "}\n",
       "\n",
       "/* Estimator label */\n",
       "\n",
       "#sk-container-id-1 div.sk-label label {\n",
       "  font-family: monospace;\n",
       "  font-weight: bold;\n",
       "  display: inline-block;\n",
       "  line-height: 1.2em;\n",
       "}\n",
       "\n",
       "#sk-container-id-1 div.sk-label-container {\n",
       "  text-align: center;\n",
       "}\n",
       "\n",
       "/* Estimator-specific */\n",
       "#sk-container-id-1 div.sk-estimator {\n",
       "  font-family: monospace;\n",
       "  border: 1px dotted var(--sklearn-color-border-box);\n",
       "  border-radius: 0.25em;\n",
       "  box-sizing: border-box;\n",
       "  margin-bottom: 0.5em;\n",
       "  /* unfitted */\n",
       "  background-color: var(--sklearn-color-unfitted-level-0);\n",
       "}\n",
       "\n",
       "#sk-container-id-1 div.sk-estimator.fitted {\n",
       "  /* fitted */\n",
       "  background-color: var(--sklearn-color-fitted-level-0);\n",
       "}\n",
       "\n",
       "/* on hover */\n",
       "#sk-container-id-1 div.sk-estimator:hover {\n",
       "  /* unfitted */\n",
       "  background-color: var(--sklearn-color-unfitted-level-2);\n",
       "}\n",
       "\n",
       "#sk-container-id-1 div.sk-estimator.fitted:hover {\n",
       "  /* fitted */\n",
       "  background-color: var(--sklearn-color-fitted-level-2);\n",
       "}\n",
       "\n",
       "/* Specification for estimator info (e.g. \"i\" and \"?\") */\n",
       "\n",
       "/* Common style for \"i\" and \"?\" */\n",
       "\n",
       ".sk-estimator-doc-link,\n",
       "a:link.sk-estimator-doc-link,\n",
       "a:visited.sk-estimator-doc-link {\n",
       "  float: right;\n",
       "  font-size: smaller;\n",
       "  line-height: 1em;\n",
       "  font-family: monospace;\n",
       "  background-color: var(--sklearn-color-background);\n",
       "  border-radius: 1em;\n",
       "  height: 1em;\n",
       "  width: 1em;\n",
       "  text-decoration: none !important;\n",
       "  margin-left: 0.5em;\n",
       "  text-align: center;\n",
       "  /* unfitted */\n",
       "  border: var(--sklearn-color-unfitted-level-1) 1pt solid;\n",
       "  color: var(--sklearn-color-unfitted-level-1);\n",
       "}\n",
       "\n",
       ".sk-estimator-doc-link.fitted,\n",
       "a:link.sk-estimator-doc-link.fitted,\n",
       "a:visited.sk-estimator-doc-link.fitted {\n",
       "  /* fitted */\n",
       "  border: var(--sklearn-color-fitted-level-1) 1pt solid;\n",
       "  color: var(--sklearn-color-fitted-level-1);\n",
       "}\n",
       "\n",
       "/* On hover */\n",
       "div.sk-estimator:hover .sk-estimator-doc-link:hover,\n",
       ".sk-estimator-doc-link:hover,\n",
       "div.sk-label-container:hover .sk-estimator-doc-link:hover,\n",
       ".sk-estimator-doc-link:hover {\n",
       "  /* unfitted */\n",
       "  background-color: var(--sklearn-color-unfitted-level-3);\n",
       "  color: var(--sklearn-color-background);\n",
       "  text-decoration: none;\n",
       "}\n",
       "\n",
       "div.sk-estimator.fitted:hover .sk-estimator-doc-link.fitted:hover,\n",
       ".sk-estimator-doc-link.fitted:hover,\n",
       "div.sk-label-container:hover .sk-estimator-doc-link.fitted:hover,\n",
       ".sk-estimator-doc-link.fitted:hover {\n",
       "  /* fitted */\n",
       "  background-color: var(--sklearn-color-fitted-level-3);\n",
       "  color: var(--sklearn-color-background);\n",
       "  text-decoration: none;\n",
       "}\n",
       "\n",
       "/* Span, style for the box shown on hovering the info icon */\n",
       ".sk-estimator-doc-link span {\n",
       "  display: none;\n",
       "  z-index: 9999;\n",
       "  position: relative;\n",
       "  font-weight: normal;\n",
       "  right: .2ex;\n",
       "  padding: .5ex;\n",
       "  margin: .5ex;\n",
       "  width: min-content;\n",
       "  min-width: 20ex;\n",
       "  max-width: 50ex;\n",
       "  color: var(--sklearn-color-text);\n",
       "  box-shadow: 2pt 2pt 4pt #999;\n",
       "  /* unfitted */\n",
       "  background: var(--sklearn-color-unfitted-level-0);\n",
       "  border: .5pt solid var(--sklearn-color-unfitted-level-3);\n",
       "}\n",
       "\n",
       ".sk-estimator-doc-link.fitted span {\n",
       "  /* fitted */\n",
       "  background: var(--sklearn-color-fitted-level-0);\n",
       "  border: var(--sklearn-color-fitted-level-3);\n",
       "}\n",
       "\n",
       ".sk-estimator-doc-link:hover span {\n",
       "  display: block;\n",
       "}\n",
       "\n",
       "/* \"?\"-specific style due to the `<a>` HTML tag */\n",
       "\n",
       "#sk-container-id-1 a.estimator_doc_link {\n",
       "  float: right;\n",
       "  font-size: 1rem;\n",
       "  line-height: 1em;\n",
       "  font-family: monospace;\n",
       "  background-color: var(--sklearn-color-background);\n",
       "  border-radius: 1rem;\n",
       "  height: 1rem;\n",
       "  width: 1rem;\n",
       "  text-decoration: none;\n",
       "  /* unfitted */\n",
       "  color: var(--sklearn-color-unfitted-level-1);\n",
       "  border: var(--sklearn-color-unfitted-level-1) 1pt solid;\n",
       "}\n",
       "\n",
       "#sk-container-id-1 a.estimator_doc_link.fitted {\n",
       "  /* fitted */\n",
       "  border: var(--sklearn-color-fitted-level-1) 1pt solid;\n",
       "  color: var(--sklearn-color-fitted-level-1);\n",
       "}\n",
       "\n",
       "/* On hover */\n",
       "#sk-container-id-1 a.estimator_doc_link:hover {\n",
       "  /* unfitted */\n",
       "  background-color: var(--sklearn-color-unfitted-level-3);\n",
       "  color: var(--sklearn-color-background);\n",
       "  text-decoration: none;\n",
       "}\n",
       "\n",
       "#sk-container-id-1 a.estimator_doc_link.fitted:hover {\n",
       "  /* fitted */\n",
       "  background-color: var(--sklearn-color-fitted-level-3);\n",
       "}\n",
       "</style><div id=\"sk-container-id-1\" class=\"sk-top-container\"><div class=\"sk-text-repr-fallback\"><pre>GridSearchCV(cv=5, estimator=LogisticRegression(max_iter=10000),\n",
       "             param_grid={&#x27;C&#x27;: [0.01, 0.1, 1, 10, 100]})</pre><b>In a Jupyter environment, please rerun this cell to show the HTML representation or trust the notebook. <br />On GitHub, the HTML representation is unable to render, please try loading this page with nbviewer.org.</b></div><div class=\"sk-container\" hidden><div class=\"sk-item sk-dashed-wrapped\"><div class=\"sk-label-container\"><div class=\"sk-label fitted sk-toggleable\"><input class=\"sk-toggleable__control sk-hidden--visually\" id=\"sk-estimator-id-1\" type=\"checkbox\" ><label for=\"sk-estimator-id-1\" class=\"sk-toggleable__label fitted sk-toggleable__label-arrow\"><div><div>GridSearchCV</div></div><div><a class=\"sk-estimator-doc-link fitted\" rel=\"noreferrer\" target=\"_blank\" href=\"https://scikit-learn.org/1.6/modules/generated/sklearn.model_selection.GridSearchCV.html\">?<span>Documentation for GridSearchCV</span></a><span class=\"sk-estimator-doc-link fitted\">i<span>Fitted</span></span></div></label><div class=\"sk-toggleable__content fitted\"><pre>GridSearchCV(cv=5, estimator=LogisticRegression(max_iter=10000),\n",
       "             param_grid={&#x27;C&#x27;: [0.01, 0.1, 1, 10, 100]})</pre></div> </div></div><div class=\"sk-parallel\"><div class=\"sk-parallel-item\"><div class=\"sk-item\"><div class=\"sk-label-container\"><div class=\"sk-label fitted sk-toggleable\"><input class=\"sk-toggleable__control sk-hidden--visually\" id=\"sk-estimator-id-2\" type=\"checkbox\" ><label for=\"sk-estimator-id-2\" class=\"sk-toggleable__label fitted sk-toggleable__label-arrow\"><div><div>best_estimator_: LogisticRegression</div></div></label><div class=\"sk-toggleable__content fitted\"><pre>LogisticRegression(C=0.1, max_iter=10000)</pre></div> </div></div><div class=\"sk-serial\"><div class=\"sk-item\"><div class=\"sk-estimator fitted sk-toggleable\"><input class=\"sk-toggleable__control sk-hidden--visually\" id=\"sk-estimator-id-3\" type=\"checkbox\" ><label for=\"sk-estimator-id-3\" class=\"sk-toggleable__label fitted sk-toggleable__label-arrow\"><div><div>LogisticRegression</div></div><div><a class=\"sk-estimator-doc-link fitted\" rel=\"noreferrer\" target=\"_blank\" href=\"https://scikit-learn.org/1.6/modules/generated/sklearn.linear_model.LogisticRegression.html\">?<span>Documentation for LogisticRegression</span></a></div></label><div class=\"sk-toggleable__content fitted\"><pre>LogisticRegression(C=0.1, max_iter=10000)</pre></div> </div></div></div></div></div></div></div></div></div>"
      ]
     },
     "execution_count": 16,
     "metadata": {},
     "output_type": "execute_result"
    }
   ],
   "execution_count": 16
  },
  {
   "cell_type": "code",
   "source": [
    "\n",
    "# 7. Avaliar o melhor modelo no teste\n",
    "best_model = grid.best_estimator_\n",
    "y_pred = best_model.predict(X_test_scaled)\n",
    "test_accuracy = accuracy_score(y_test, y_pred)\n",
    "\n",
    "# 8. Resultados\n",
    "print(\"Melhor hiperparâmetro:\", grid.best_params_)\n",
    "print(\"Score médio na validação cruzada:\", grid.best_score_)\n",
    "print(\"Acurácia final no teste:\", test_accuracy)"
   ],
   "metadata": {
    "colab": {
     "base_uri": "https://localhost:8080/"
    },
    "id": "ySbGGMb9bt-e",
    "outputId": "4f4365af-18af-4f36-889b-7584bec82e05",
    "ExecuteTime": {
     "end_time": "2025-04-25T01:08:49.464981Z",
     "start_time": "2025-04-25T01:08:49.451687Z"
    }
   },
   "outputs": [
    {
     "name": "stdout",
     "output_type": "stream",
     "text": [
      "Melhor hiperparâmetro: {'C': 0.1}\n",
      "Score médio na validação cruzada: 0.9928571428571429\n",
      "Acurácia final no teste: 1.0\n"
     ]
    }
   ],
   "execution_count": 17
  },
  {
   "cell_type": "code",
   "source": [
    "# Plotando a curva de desempenho em função de C\n",
    "plt.figure(figsize=(8, 6))\n",
    "plt.plot(param_grid['C'], grid.cv_results_['mean_test_score'], marker='o')\n",
    "#plt.xscale('log')  # Usando escala logarítmica no eixo x\n",
    "plt.xlabel('Valor de C (Escala Logarítmica)')\n",
    "plt.ylabel('Acurácia Média de Validação')\n",
    "plt.title('Curva de Desempenho em Função de C')\n",
    "plt.grid(True)\n",
    "plt.show()"
   ],
   "metadata": {
    "colab": {
     "base_uri": "https://localhost:8080/",
     "height": 565
    },
    "id": "beUeizURc28x",
    "outputId": "701c5283-8353-4064-c3c3-29088a47962f",
    "ExecuteTime": {
     "end_time": "2025-04-25T01:08:49.800352Z",
     "start_time": "2025-04-25T01:08:49.468311Z"
    }
   },
   "outputs": [
    {
     "data": {
      "text/plain": [
       "<Figure size 800x600 with 1 Axes>"
      ],
      "image/png": "[encoded data removed]"
     },
     "metadata": {},
     "output_type": "display_data"
    }
   ],
   "execution_count": 18
  },
  {
   "cell_type": "code",
   "source": [
    "# Exercício 1: Divisão de dados\n",
    "\n",
    "# Divida o dataset data = load_breast_cancer() em 60% treino, 20% validação e 20% teste.\n",
    "# Dica: use train_test_split duas vezes.\n",
    "\n",
    "data = load_breast_cancer()\n",
    "X2 = data.data\n",
    "y2 = data.target\n",
    "\n",
    "X_train2, X_test2, y_train2, y_test2 = train_test_split(X2, y2, test_size=0.2, random_state=42)\n",
    "X_train2, X_val2, y_train2, y_val2 = train_test_split(X_train2, y_train2, test_size=0.25, random_state=42)\n"
   ],
   "metadata": {
    "id": "CfBjDWFVY8pc",
    "ExecuteTime": {
     "end_time": "2025-04-25T01:08:49.843075Z",
     "start_time": "2025-04-25T01:08:49.800352Z"
    }
   },
   "outputs": [],
   "execution_count": 19
  },
  {
   "cell_type": "code",
   "source": [
    "# Exercício 2:\n",
    "# Utilize cross_val_score com K=3 para avaliar um modelo LogisticRegression.\n",
    "# Registre a média e o desvio-padrão das acurácias.\n",
    "\n",
    "model2 = LogisticRegression(max_iter=10000)\n",
    "model2.fit(X_train2, y_train2)\n",
    "\n",
    "cv_scores2 = cross_val_score(model2, X_val2, y_val2, cv=3)\n",
    "\n",
    "print(f'Média = {cv_scores2.mean():.2f}')\n",
    "print(f'DP = {cv_scores2.std():.2f}')"
   ],
   "metadata": {
    "id": "6WIgYv4SYxAJ",
    "ExecuteTime": {
     "end_time": "2025-04-25T01:08:59.306702Z",
     "start_time": "2025-04-25T01:08:49.844099Z"
    }
   },
   "outputs": [
    {
     "name": "stdout",
     "output_type": "stream",
     "text": [
      "Média = 0.91\n",
      "DP = 0.01\n"
     ]
    }
   ],
   "execution_count": 20
  },
  {
   "cell_type": "code",
   "source": [
    "\n",
    "# Exercício 3:\n",
    "# Execute um GridSearchCV com C = [0.01, 0.1, 1, 10] e K=3 folds.\n",
    "# Qual foi o melhor valor de C?\n",
    "\n",
    "param_grid2 = {'C': [0.01, 0.1, 1, 10]}\n",
    "\n",
    "grid2 = GridSearchCV(model2, param_grid2, cv=3)\n",
    "grid2.fit(X_train2, y_train2)\n",
    "\n",
    "# 7. Avaliar o melhor modelo no teste\n",
    "best_model2 = grid2.best_estimator_\n",
    "y_pred2 = best_model2.predict(X_test2)\n",
    "test_accuracy2 = accuracy_score(y_test2, y_pred2)\n",
    "\n",
    "# 8. Resultados\n",
    "print(\"Melhor hiperparâmetro:\", grid2.best_params_)\n",
    "print(f\"Score médio na validação cruzada: {100 * grid2.best_score_:.2f}%\")\n",
    "print(f\"Acurácia final no teste: {100 * test_accuracy2:.2f}%\")"
   ],
   "metadata": {
    "id": "ecZo4Q-yY1Y0",
    "ExecuteTime": {
     "end_time": "2025-04-25T01:09:34.903623Z",
     "start_time": "2025-04-25T01:08:59.313278Z"
    }
   },
   "outputs": [
    {
     "name": "stdout",
     "output_type": "stream",
     "text": [
      "Melhor hiperparâmetro: {'C': 10}\n",
      "Score médio na validação cruzada: 96.48%\n",
      "Acurácia final no teste: 95.61%\n"
     ]
    }
   ],
   "execution_count": 21
  }
 ]
}
