{
 "cells": [
  {
   "cell_type": "markdown",
   "id": "8848a155-69fb-4e89-b179-ebc52a2d9009",
   "metadata": {},
   "source": [
    "# Sampling\n",
    "\n",
    "Content credits on the [Acknowledgments Page](https://ds100.org/sp23/acks/).\n",
    "\n",
    "Updated by Joseph Gonzalez, Dominic Liu, Fernando Pérez."
   ]
  },
  {
   "cell_type": "code",
   "execution_count": null,
   "id": "69c92aba-18f9-43d7-90a7-9c850375cbaf",
   "metadata": {},
   "outputs": [],
   "source": [
    "import matplotlib.pyplot as plt\n",
    "import numpy as np\n",
    "import pandas as pd\n",
    "import seaborn as sns\n",
    "\n",
    "sns.set_theme(style='darkgrid', font_scale = 1.5,\n",
    "              rc={'figure.figsize':(7,5)})\n",
    "\n",
    "rng = np.random.default_rng()"
   ]
  },
  {
   "cell_type": "markdown",
   "id": "6fc02f3c-6adc-445a-9419-cd0c1b264e62",
   "metadata": {
    "tags": []
   },
   "source": [
    "## Barbie v. Oppenheimer\n",
    "\n",
    "To study how various sampling strategies work we will use a (fictional)  **census** -- a complete survey of all Berkeley residents (our population). For the purposes of this fictional demo, assume:\n",
    "* `wears_birkenstocks` indicates if a resident identifies as male.\n",
    "* There are only two movies they can watch on July 21st: Barbie and Oppenheimer.\n",
    "* Every resident watches a movie (either Barbie or Oppenheimer) on July 21st.\n"
   ]
  },
  {
   "cell_type": "code",
   "execution_count": null,
   "id": "143c1a2c-370c-42f9-b7f8-117b3b93d7f9",
   "metadata": {
    "tags": []
   },
   "outputs": [],
   "source": [
    "census = pd.read_csv(\"movie_census.csv\")\n",
    "census['Barbie'] = census['movie'] == 'Barbie'\n",
    "census"
   ]
  },
  {
   "cell_type": "markdown",
   "id": "bc40ee2f-4849-4a5f-bca7-c05085a63229",
   "metadata": {},
   "source": [
    "What fraction of Berkeley residents chose Barbie?"
   ]
  },
  {
   "cell_type": "code",
   "execution_count": null,
   "id": "16c4d531-8207-4f2a-99b1-9276eb70feef",
   "metadata": {},
   "outputs": [],
   "source": [
    "actual_barbie = census[\"Barbie\"].mean()\n",
    "actual_barbie"
   ]
  },
  {
   "cell_type": "markdown",
   "id": "43d2a184-f19f-4612-b441-83197cd7c994",
   "metadata": {},
   "source": [
    "This is the **actual outcome** of the competition. Based on this result, Barbie would win. How did our sample of retirees do?"
   ]
  },
  {
   "cell_type": "markdown",
   "id": "08b7b196-d446-4cb7-9381-5e5d841c4c46",
   "metadata": {},
   "source": [
    "## Convenience sample: _Undergrads in Prof. Gonzalez OH_"
   ]
  },
  {
   "cell_type": "code",
   "execution_count": null,
   "id": "82557452-d991-4815-9452-7708a3e96eca",
   "metadata": {},
   "outputs": [],
   "source": [
    "undergrads = census[(18 <= census['age']) & (census['age'] <= 22)].sample(10, replace=False)\n",
    "undergrads[\"Barbie\"].mean()"
   ]
  },
  {
   "cell_type": "markdown",
   "id": "118fc64a-ee4c-49ef-8e97-0c48d72c7c2e",
   "metadata": {},
   "source": [
    "Based on this result, we would have predicted that Oppenheimer would win! What happened?"
   ]
  },
  {
   "cell_type": "markdown",
   "id": "766bdf34-bcbb-43fe-a797-5b7065aa0e91",
   "metadata": {},
   "source": [
    "1. Is the sample too small / noisy?"
   ]
  },
  {
   "cell_type": "code",
   "execution_count": null,
   "id": "81e06573-8521-4deb-88ef-64206154217e",
   "metadata": {},
   "outputs": [],
   "source": [
    "len(undergrads)"
   ]
  },
  {
   "cell_type": "code",
   "execution_count": null,
   "id": "ad2dc4cb-b41b-463b-a692-a4670274dfe3",
   "metadata": {},
   "outputs": [],
   "source": [
    "print(\"Percent of Berkeley:\", len(undergrads)/len(census) * 100)"
   ]
  },
  {
   "cell_type": "markdown",
   "id": "77de6faa",
   "metadata": {},
   "source": [
    "## Convenience sample: _Elderly at a Campus Event_"
   ]
  },
  {
   "cell_type": "code",
   "execution_count": null,
   "id": "c4f00063",
   "metadata": {},
   "outputs": [],
   "source": [
    "elderly = census[census['age'] >= 65].sample(100)\n",
    "elderly[\"Barbie\"].mean()"
   ]
  },
  {
   "cell_type": "markdown",
   "id": "46d0b5fc",
   "metadata": {},
   "source": [
    "Based on this result, we would have predicted that Oppenheimer would win! What happened?"
   ]
  },
  {
   "cell_type": "markdown",
   "id": "5fa32d13",
   "metadata": {},
   "source": [
    "1. Is the sample too small / noisy?"
   ]
  },
  {
   "cell_type": "code",
   "execution_count": null,
   "id": "e7b0b96a",
   "metadata": {},
   "outputs": [],
   "source": [
    "len(elderly)"
   ]
  },
  {
   "cell_type": "code",
   "execution_count": null,
   "id": "ea785313",
   "metadata": {},
   "outputs": [],
   "source": [
    "print(\"Percent of Berkeley:\", len(elderly)/len(census) * 100)"
   ]
  },
  {
   "cell_type": "markdown",
   "id": "a4cccfcf-6252-4c25-9f56-b39b13401bd4",
   "metadata": {},
   "source": [
    "### Check for bias"
   ]
  },
  {
   "cell_type": "markdown",
   "id": "05b6e116-391e-4e67-be25-c463d12723ee",
   "metadata": {},
   "source": [
    "Let us aggregate all choices by age and visualize the fraction of Barbie views, split by gender."
   ]
  },
  {
   "cell_type": "code",
   "execution_count": null,
   "id": "02d1e1ff-13d0-4e08-a3ac-ddb5537b209e",
   "metadata": {},
   "outputs": [],
   "source": [
    "votes_by_barbie = census.groupby([\"age\",\"wears_birkenstocks\"]).agg(\"mean\", numeric_only=True).reset_index()\n",
    "votes_by_barbie"
   ]
  },
  {
   "cell_type": "code",
   "execution_count": null,
   "id": "ac488c63",
   "metadata": {},
   "outputs": [],
   "source": [
    "import plotly.express as px\n",
    "px.scatter(votes_by_barbie, x = \"age\", y = \"Barbie\", \n",
    "           color = \"wears_birkenstocks\",\n",
    "           title= \"Preferences by Demographics\")"
   ]
  },
  {
   "cell_type": "markdown",
   "id": "a3734e93-bcf8-4c74-b19f-dae29f2a85bd",
   "metadata": {},
   "source": [
    "* We see that retirees (in Berkeley) tend to watch Oppenheimer.\n",
    "* We also see that residents who don't routinely wear Birkenstocks tend to prefer Barbie (nothing wrong with Birkenstocks)."
   ]
  },
  {
   "cell_type": "markdown",
   "id": "e85c9a04-c048-4fda-95b2-9415446c4966",
   "metadata": {},
   "source": [
    "## Simple Random Sample"
   ]
  },
  {
   "cell_type": "markdown",
   "id": "b2ed52f3-8683-4d54-85ba-efb5c53d7663",
   "metadata": {},
   "source": [
    "What if we instead took a simple random sample (SRS) to collect our sample?\n",
    "\n",
    "Suppose we took an SRS of the same size as our undergrad sample:"
   ]
  },
  {
   "cell_type": "code",
   "execution_count": null,
   "id": "76e18d6e-f0d4-412f-9c06-45c186c7f5c1",
   "metadata": {},
   "outputs": [],
   "source": [
    "## By default, replace = False\n",
    "n = 800\n",
    "random_sample = census.sample(n, replace = False)\n",
    "\n",
    "random_sample[\"Barbie\"].mean()"
   ]
  },
  {
   "cell_type": "markdown",
   "id": "ba801f5d-6476-4ea9-a795-c2baf2917d4b",
   "metadata": {},
   "source": [
    "This is very close to the actual vote!"
   ]
  },
  {
   "cell_type": "code",
   "execution_count": null,
   "id": "e8e3bcdd-9b97-4d62-9bf2-3844b705c84b",
   "metadata": {},
   "outputs": [],
   "source": [
    "actual_barbie"
   ]
  },
  {
   "cell_type": "markdown",
   "id": "2938ff0e-6951-414f-b7e2-864aff5e10bc",
   "metadata": {},
   "source": [
    "It turns out that we can get similar results with a **much smaller sample size**, say, 800:"
   ]
  },
  {
   "cell_type": "code",
   "execution_count": null,
   "id": "231149d1-57ac-4424-aa8a-d20798fa23b5",
   "metadata": {},
   "outputs": [],
   "source": [
    "n = 800\n",
    "random_sample = census.sample(n, replace = False)\n",
    "\n",
    "# Compute the sample average and the resulting relative error\n",
    "sample_barbie = random_sample[\"Barbie\"].mean()\n",
    "err = abs(sample_barbie-actual_barbie)/actual_barbie\n",
    "\n",
    "# We can print output with Markdown formatting too...\n",
    "from IPython.display import Markdown\n",
    "Markdown(f\"**Actual** = {actual_barbie:.4f}, **Sample** = {sample_barbie:.4f}, \"\n",
    "         f\"**Err** = {100*err:.2f}%.\")"
   ]
  },
  {
   "cell_type": "markdown",
   "id": "d8358d76-0626-4a28-be7d-169a734b7a8b",
   "metadata": {},
   "source": [
    "We'll learn how to choose this number when we (re)learn the Central Limit Theorem later in the semester."
   ]
  },
  {
   "cell_type": "markdown",
   "id": "6bca35a6-2c3a-4cc6-9825-ff87a133c604",
   "metadata": {},
   "source": [
    "### Quantifying chance error"
   ]
  },
  {
   "cell_type": "markdown",
   "id": "a11f189c-41f9-4a97-a8e3-1265d25c1761",
   "metadata": {},
   "source": [
    "In our SRS of size 800, what would be our chance error?\n",
    "\n",
    "Let's simulate 1000 versions of taking the 800-sized SRS from before:"
   ]
  },
  {
   "cell_type": "code",
   "execution_count": null,
   "id": "56ad3032-fed5-42f4-b5cf-3da7560be2e7",
   "metadata": {},
   "outputs": [],
   "source": [
    "nrep = 1000   # number of simulations\n",
    "n = 800       # size of our sample\n",
    "poll_result = []\n",
    "for i in range(0, nrep):\n",
    "    random_sample = census.sample(n, replace = False)\n",
    "    poll_result.append(random_sample[\"Barbie\"].mean())"
   ]
  },
  {
   "cell_type": "markdown",
   "id": "cc3cb08b",
   "metadata": {},
   "source": [
    "Visualizing the distribution of outcomes:"
   ]
  },
  {
   "cell_type": "code",
   "execution_count": null,
   "id": "814f057d",
   "metadata": {},
   "outputs": [],
   "source": [
    "fig = px.histogram(poll_result, histnorm='probability density', nbins=50)\n",
    "fig.add_vline(x=actual_barbie, line_width=3, line_dash=\"dash\", line_color=\"orange\")\n",
    "fig.update_layout(showlegend=False)\n",
    "\n",
    "# Add Kernel Density Estimate curve\n",
    "from scipy import stats\n",
    "from plotly import graph_objects as go\n",
    "x = np.linspace(min(poll_result), max(poll_result), 100)\n",
    "fig.add_trace(go.Scatter(\n",
    "    x=x, \n",
    "    y=stats.gaussian_kde(poll_result)(x), # Library for KDE (auto selects bandwidth)\n",
    "    mode='lines', line=dict(color='red', width=3)) # Formatting\n",
    "    )\n"
   ]
  },
  {
   "cell_type": "markdown",
   "id": "8982e4f5",
   "metadata": {},
   "source": [
    "Using seaborn instead:"
   ]
  },
  {
   "cell_type": "code",
   "execution_count": null,
   "id": "0fd204a4",
   "metadata": {},
   "outputs": [],
   "source": [
    "sns.histplot(poll_result, stat='density', kde=True);\n",
    "plt.axvline(actual_barbie, color='orange', linestyle='dashed', linewidth=2)"
   ]
  },
  {
   "cell_type": "markdown",
   "id": "b95fd263-8320-48ea-b1b3-b5147a0fbba1",
   "metadata": {},
   "source": [
    "What fraction of these simulated samples would have predicted Barbie?"
   ]
  },
  {
   "cell_type": "code",
   "execution_count": null,
   "id": "22ab6384-0d07-44fc-9e95-a6632b8a2eef",
   "metadata": {},
   "outputs": [],
   "source": [
    "poll_result = pd.Series(poll_result)\n",
    "np.sum(poll_result > 0.5)/1000"
   ]
  },
  {
   "cell_type": "markdown",
   "id": "53ba31f4",
   "metadata": {},
   "source": [
    "<br><br>\n",
    "\n",
    "**Return to Slides**\n",
    "\n",
    "<br><br>"
   ]
  },
  {
   "cell_type": "markdown",
   "id": "b5772aaa-42b1-4788-bcc1-485b2a126cab",
   "metadata": {},
   "source": [
    "---\n",
    "\n",
    "## Simulating from a Multinomial Distribution"
   ]
  },
  {
   "cell_type": "markdown",
   "id": "e554bff2-94b2-4fae-83b9-47783f065029",
   "metadata": {},
   "source": [
    "Sometimes instead of having individual reports in the population, we have **aggregate** statistics. For example, we could have only learned that 53\\% of election voters voted Democrat. Even so, we can still simulate probability samples if we assume the population is large.\n",
    "\n",
    "Specifically, we can use **multinomial** probabilities to simulate random samples **with replacement**."
   ]
  },
  {
   "cell_type": "markdown",
   "id": "c3cbab5e-ebeb-423b-a036-1a4b158b3b55",
   "metadata": {},
   "source": [
    "### Marbles"
   ]
  },
  {
   "cell_type": "markdown",
   "id": "08f20ae4-2a09-49af-917a-8a0a1e09ef70",
   "metadata": {},
   "source": [
    "Suppose we have a very large bag of marbles with the following statistics:\n",
    "* 60\\% blue\n",
    "* 30\\% green\n",
    "* 10\\% red\n",
    "\n",
    "We then draw 100 marbles from this bag at random with replacement."
   ]
  },
  {
   "cell_type": "code",
   "execution_count": null,
   "id": "74a56536-ce12-4bef-ad57-d7961b849ece",
   "metadata": {},
   "outputs": [],
   "source": [
    "np.random.multinomial(100, [0.60, 0.30, 0.10])"
   ]
  },
  {
   "cell_type": "markdown",
   "id": "c478514a-d1ff-4f2e-9226-f4a3c5f23de8",
   "metadata": {},
   "source": [
    "We can repeat this simulation multiple times, say 20:"
   ]
  },
  {
   "cell_type": "code",
   "execution_count": null,
   "id": "9eafdf83-7f92-411a-92de-4ffc5525bba9",
   "metadata": {},
   "outputs": [],
   "source": [
    "np.random.multinomial(100, [0.60, 0.30, 0.10], size=20)"
   ]
  },
  {
   "cell_type": "code",
   "execution_count": null,
   "id": "bedbfc3e-048b-43ca-a973-4f415dd5a53f",
   "metadata": {},
   "outputs": [],
   "source": []
  }
 ],
 "metadata": {
  "kernelspec": {
   "display_name": "Python 3 (ipykernel)",
   "language": "python",
   "name": "python3"
  },
  "language_info": {
   "codemirror_mode": {
    "name": "ipython",
    "version": 3
   },
   "file_extension": ".py",
   "mimetype": "text/x-python",
   "name": "python",
   "nbconvert_exporter": "python",
   "pygments_lexer": "ipython3",
   "version": "3.11.7"
  }
 },
 "nbformat": 4,
 "nbformat_minor": 5
}
